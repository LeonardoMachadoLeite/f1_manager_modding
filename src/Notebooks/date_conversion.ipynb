{
 "cells": [
  {
   "cell_type": "code",
   "execution_count": 1,
   "id": "8ed620ac",
   "metadata": {},
   "outputs": [],
   "source": [
    "import os\n",
    "import sys\n",
    "from dotenv import load_dotenv, find_dotenv\n",
    "import datetime as dt\n",
    "\n",
    "load_dotenv(find_dotenv())\n",
    "CLASSES_DIR = os.getenv(\"SRC_DIR\")\n",
    "\n",
    "sys.path.append(CLASSES_DIR)\n",
    "\n",
    "from Model.DateConverter import DateConverter"
   ]
  },
  {
   "cell_type": "code",
   "execution_count": 2,
   "id": "588a070b",
   "metadata": {},
   "outputs": [
    {
     "name": "stdout",
     "output_type": "stream",
     "text": [
      "13/11/2022, 44878: 2022-11-13\n",
      "09/10/2022, 44843: 2022-10-09\n",
      "11/09/2022, 44815: 2022-09-11\n",
      "28/08/2022, 44801: 2022-08-28\n",
      "31/07/2022, 44773: 2022-07-31\n",
      "19/06/2022, 44731: 2022-06-19\n",
      "29/05/2022, 44710: 2022-05-29\n",
      "08/05/2022, 44689: 2022-05-08\n",
      "10/04/2022, 44661: 2022-04-10\n",
      "20/03/2022, 44640: 2022-03-20\n"
     ]
    }
   ],
   "source": [
    "RaceDay = DateConverter(44878)\n",
    "print(f'13/11/2022, 44878: {RaceDay.get_date()}')\n",
    "\n",
    "RaceDay = DateConverter(44843)\n",
    "print(f'09/10/2022, 44843: {RaceDay.get_date()}')\n",
    "\n",
    "RaceDay = DateConverter(44815)\n",
    "print(f'11/09/2022, 44815: {RaceDay.get_date()}')\n",
    "\n",
    "RaceDay = DateConverter(44801)\n",
    "print(f'28/08/2022, 44801: {RaceDay.get_date()}')\n",
    "\n",
    "RaceDay = DateConverter(44773)\n",
    "print(f'31/07/2022, 44773: {RaceDay.get_date()}')\n",
    "\n",
    "RaceDay = DateConverter(44731)\n",
    "print(f'19/06/2022, 44731: {RaceDay.get_date()}')\n",
    "\n",
    "RaceDay = DateConverter(44710)\n",
    "print(f'29/05/2022, 44710: {RaceDay.get_date()}')\n",
    "\n",
    "RaceDay = DateConverter(44689)\n",
    "print(f'08/05/2022, 44689: {RaceDay.get_date()}')\n",
    "\n",
    "RaceDay = DateConverter(44661)\n",
    "print(f'10/04/2022, 44661: {RaceDay.get_date()}')\n",
    "\n",
    "RaceDay = DateConverter(44640)\n",
    "print(f'20/03/2022, 44640: {RaceDay.get_date()}')"
   ]
  },
  {
   "cell_type": "code",
   "execution_count": 3,
   "id": "012210db",
   "metadata": {},
   "outputs": [
    {
     "data": {
      "text/plain": [
       "6"
      ]
     },
     "execution_count": 3,
     "metadata": {},
     "output_type": "execute_result"
    }
   ],
   "source": [
    "test = dt.date(2023, 6, 3) \n",
    "test.isoweekday()"
   ]
  },
  {
   "cell_type": "code",
   "execution_count": 8,
   "id": "60628a37",
   "metadata": {},
   "outputs": [
    {
     "name": "stdout",
     "output_type": "stream",
     "text": [
      "02/01/2022\t44563\n",
      "09/01/2022\t44570\n",
      "16/01/2022\t44577\n",
      "23/01/2022\t44584\n",
      "30/01/2022\t44591\n",
      "06/02/2022\t44598\n",
      "13/02/2022\t44605\n",
      "20/02/2022\t44612\n",
      "27/02/2022\t44619\n",
      "06/03/2022\t44626\n",
      "13/03/2022\t44633\n",
      "20/03/2022\t44640\n",
      "27/03/2022\t44647\n",
      "03/04/2022\t44654\n",
      "10/04/2022\t44661\n",
      "17/04/2022\t44668\n",
      "24/04/2022\t44675\n",
      "01/05/2022\t44682\n",
      "08/05/2022\t44689\n",
      "15/05/2022\t44696\n",
      "22/05/2022\t44703\n",
      "29/05/2022\t44710\n",
      "05/06/2022\t44717\n",
      "12/06/2022\t44724\n",
      "19/06/2022\t44731\n",
      "26/06/2022\t44738\n",
      "03/07/2022\t44745\n",
      "10/07/2022\t44752\n",
      "17/07/2022\t44759\n",
      "24/07/2022\t44766\n",
      "31/07/2022\t44773\n",
      "07/08/2022\t44780\n",
      "14/08/2022\t44787\n",
      "21/08/2022\t44794\n",
      "28/08/2022\t44801\n",
      "04/09/2022\t44808\n",
      "11/09/2022\t44815\n",
      "18/09/2022\t44822\n",
      "25/09/2022\t44829\n",
      "02/10/2022\t44836\n",
      "09/10/2022\t44843\n",
      "16/10/2022\t44850\n",
      "23/10/2022\t44857\n",
      "30/10/2022\t44864\n",
      "06/11/2022\t44871\n",
      "13/11/2022\t44878\n",
      "20/11/2022\t44885\n",
      "27/11/2022\t44892\n",
      "04/12/2022\t44899\n",
      "11/12/2022\t44906\n",
      "18/12/2022\t44913\n",
      "25/12/2022\t44920\n"
     ]
    }
   ],
   "source": [
    "sundays = DateConverter.get_all_weekdays_in_year(2022, 7)\n",
    "for d in sundays:\n",
    "    print(d.desc_as_row())"
   ]
  }
 ],
 "metadata": {
  "kernelspec": {
   "display_name": "Python 3 (ipykernel)",
   "language": "python",
   "name": "python3"
  },
  "language_info": {
   "codemirror_mode": {
    "name": "ipython",
    "version": 3
   },
   "file_extension": ".py",
   "mimetype": "text/x-python",
   "name": "python",
   "nbconvert_exporter": "python",
   "pygments_lexer": "ipython3",
   "version": "3.11.3"
  }
 },
 "nbformat": 4,
 "nbformat_minor": 5
}
