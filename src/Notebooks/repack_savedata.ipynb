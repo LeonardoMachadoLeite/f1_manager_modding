{
 "cells": [
  {
   "cell_type": "code",
   "execution_count": 1,
   "id": "8ed620ac",
   "metadata": {},
   "outputs": [],
   "source": [
    "import os\n",
    "import sys\n",
    "from dotenv import load_dotenv, find_dotenv\n",
    "\n",
    "load_dotenv(find_dotenv())\n",
    "CLASSES_DIR = os.getenv(\"SRC_DIR\")\n",
    "\n",
    "sys.path.append(CLASSES_DIR)\n",
    "\n",
    "# from savefile_packer import script as packer\n",
    "from Controllers.SaveGameController import SaveGameController as controller"
   ]
  },
  {
   "cell_type": "code",
   "execution_count": 2,
   "id": "4b52968e",
   "metadata": {},
   "outputs": [],
   "source": [
    "TARGET_SAVE = \"save5\"\n",
    "TARGET_GAME = \"F1Manager24\""
   ]
  },
  {
   "cell_type": "code",
   "execution_count": 3,
   "id": "1e7af7ba",
   "metadata": {},
   "outputs": [],
   "source": [
    "# Unpack\n",
    "converter = controller(target_save=TARGET_SAVE, target_game=TARGET_GAME)"
   ]
  },
  {
   "cell_type": "code",
   "execution_count": 4,
   "id": "2f0c797d",
   "metadata": {},
   "outputs": [],
   "source": [
    "# Create sqlite file from save\n",
    "converter.unpack()"
   ]
  },
  {
   "cell_type": "code",
   "execution_count": 5,
   "id": "f653cb0e",
   "metadata": {},
   "outputs": [],
   "source": [
    "# Create save file from modded sqlite\n",
    "# converter.repack()"
   ]
  },
  {
   "cell_type": "code",
   "execution_count": 6,
   "id": "a106b453",
   "metadata": {},
   "outputs": [],
   "source": [
    "# SAVEFILE_DIR = \"{:s}\\\\F1Manager23\\\\Saved\\\\SaveGames\".format(os.getenv(\"GAME_DIR\"))\n",
    "# TARGET_SAVE = \"save4\"\n",
    "# TARGET_GAME = \"F1 Manager 23\"\n",
    "# SAVEFILE_PATH = \"{}\\\\{}.sav\".format(SAVEFILE_DIR, TARGET_SAVE)"
   ]
  },
  {
   "cell_type": "code",
   "execution_count": 7,
   "id": "7f53b79f",
   "metadata": {},
   "outputs": [],
   "source": [
    "# SQL_LITE_DB_PATH = f'{os.getenv(\"MODDED_SAVE_DIR_23\")}\\\\{TARGET_SAVE}'\n",
    "# SQL_LITE_DB_PATH"
   ]
  },
  {
   "cell_type": "code",
   "execution_count": 8,
   "id": "78485326",
   "metadata": {},
   "outputs": [],
   "source": [
    "# Repack\n",
    "# packer.process_repack(input_dir=SQL_LITE_DB_PATH,result_file=SAVEFILE_PATH)"
   ]
  }
 ],
 "metadata": {
  "kernelspec": {
   "display_name": "Python 3 (ipykernel)",
   "language": "python",
   "name": "python3"
  },
  "language_info": {
   "codemirror_mode": {
    "name": "ipython",
    "version": 3
   },
   "file_extension": ".py",
   "mimetype": "text/x-python",
   "name": "python",
   "nbconvert_exporter": "python",
   "pygments_lexer": "ipython3",
   "version": "3.11.9"
  }
 },
 "nbformat": 4,
 "nbformat_minor": 5
}
