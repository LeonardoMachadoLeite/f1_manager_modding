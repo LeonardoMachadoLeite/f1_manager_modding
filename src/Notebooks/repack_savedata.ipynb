{
 "cells": [
  {
   "cell_type": "code",
   "execution_count": 1,
   "id": "8ed620ac",
   "metadata": {},
   "outputs": [],
   "source": [
    "import os\n",
    "import sys\n",
    "from dotenv import load_dotenv, find_dotenv\n",
    "\n",
    "load_dotenv(find_dotenv())\n",
    "CLASSES_DIR = os.getenv(\"SRC_DIR\")\n",
    "\n",
    "sys.path.append(CLASSES_DIR)\n",
    "\n",
    "from savefile_packer import script as packer"
   ]
  },
  {
   "cell_type": "code",
   "execution_count": 2,
   "id": "a106b453",
   "metadata": {},
   "outputs": [],
   "source": [
    "SAVEFILE_DIR = \"{:s}\\\\F1Manager22\\\\Saved\\\\SaveGames\".format(os.getenv(\"GAME_DIR\"))\n",
    "TARGET_SAVE = \"save14\"\n",
    "SAVEFILE_PATH = \"{}\\\\{}.sav\".format(SAVEFILE_DIR, TARGET_SAVE)"
   ]
  },
  {
   "cell_type": "code",
   "execution_count": 3,
   "id": "7f53b79f",
   "metadata": {},
   "outputs": [
    {
     "data": {
      "text/plain": [
       "'D:\\\\Modding\\\\F1 Manager 22\\\\save_db\\\\save14'"
      ]
     },
     "execution_count": 3,
     "metadata": {},
     "output_type": "execute_result"
    }
   ],
   "source": [
    "SQL_LITE_DB_PATH = f'{os.getenv(\"MODDED_SAVE_DIR\")}\\\\{TARGET_SAVE}'\n",
    "SQL_LITE_DB_PATH"
   ]
  },
  {
   "cell_type": "code",
   "execution_count": 4,
   "id": "78485326",
   "metadata": {},
   "outputs": [],
   "source": [
    "packer.process_repack(input_dir=SQL_LITE_DB_PATH,result_file=SAVEFILE_PATH)"
   ]
  }
 ],
 "metadata": {
  "kernelspec": {
   "display_name": "Python 3 (ipykernel)",
   "language": "python",
   "name": "python3"
  },
  "language_info": {
   "codemirror_mode": {
    "name": "ipython",
    "version": 3
   },
   "file_extension": ".py",
   "mimetype": "text/x-python",
   "name": "python",
   "nbconvert_exporter": "python",
   "pygments_lexer": "ipython3",
   "version": "3.11.3"
  }
 },
 "nbformat": 4,
 "nbformat_minor": 5
}
